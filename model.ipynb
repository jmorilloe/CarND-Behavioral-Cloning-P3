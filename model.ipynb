{
 "cells": [
  {
   "cell_type": "code",
   "execution_count": 56,
   "metadata": {
    "collapsed": false
   },
   "outputs": [],
   "source": [
    "import pandas as pd\n",
    "import matplotlib.pyplot as plt\n",
    "import cv2\n",
    "from math import floor\n",
    "%matplotlib inline\n",
    "\n",
    "#Load driving log:\n",
    "\n",
    "driving_log = pd.read_csv(\n",
    "    'driving_log.csv',\n",
    "    names=['Center','Left','Right','Steering Angle','Throttle','Break','Speed'],\n",
    "    header=None,\n",
    "    skiprows=1)\n",
    "\n",
    "#Load images:\n",
    "\n",
    "def load_image(path):\n",
    "    image = cv2.imread(path)\n",
    "    #Lower resolution, still doesn't affect network's performance\n",
    "    image = cv2.resize(image, (0,0), fx=0.5, fy=0.5)\n",
    "    image = cv2.cvtColor(image,cv2.COLOR_BGR2RGB)\n",
    "    #Normalize image\n",
    "    image = image/255.\n",
    "    #Crop image, remove sky and the bottom part. Leave some of both for bumpy sections.\n",
    "    image = image[floor(image.shape[0]*0.2):floor(image.shape[0]*0.88),:,:]\n",
    "    \n",
    "    return image\n",
    "\n",
    "#image = load_image(driving_log['Left'][0])\n",
    "#plt.figure()\n",
    "#plt.imshow(image)\n",
    "\n",
    "center_images = np.array([load_image(path.strip()) for path in driving_log['Center']], dtype=np.float32)\n",
    "left_images = np.array([load_image(path.strip()) for path in driving_log['Left']], dtype=np.float32)\n",
    "right_images = np.array([load_image(path.strip()) for path in driving_log['Right']], dtype=np.float32)"
   ]
  },
  {
   "cell_type": "code",
   "execution_count": null,
   "metadata": {
    "collapsed": true
   },
   "outputs": [],
   "source": []
  }
 ],
 "metadata": {
  "anaconda-cloud": {},
  "kernelspec": {
   "display_name": "Python [conda env:carnd-term1]",
   "language": "python",
   "name": "conda-env-carnd-term1-py"
  },
  "language_info": {
   "codemirror_mode": {
    "name": "ipython",
    "version": 3
   },
   "file_extension": ".py",
   "mimetype": "text/x-python",
   "name": "python",
   "nbconvert_exporter": "python",
   "pygments_lexer": "ipython3",
   "version": "3.5.2"
  }
 },
 "nbformat": 4,
 "nbformat_minor": 1
}
